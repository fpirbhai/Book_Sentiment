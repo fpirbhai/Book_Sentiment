{
 "cells": [
  {
   "attachments": {},
   "cell_type": "markdown",
   "id": "8bfd31ef",
   "metadata": {},
   "source": [
    "# Load the book"
   ]
  },
  {
   "cell_type": "code",
   "execution_count": 4,
   "id": "d06a6bd2-fc3a-4445-a523-8a13ad0880b0",
   "metadata": {},
   "outputs": [
    {
     "name": "stdout",
     "output_type": "stream",
     "text": [
      "Chapter 1\n",
      "\n",
      "Before\n",
      "\n",
      "\n",
      "IT WAS FRIDAY, the thirteenth of October. We joked about that—flying over the Andes on such an unlucky day, but young men make those kinds of jokes so easily. Our flight had originated one day earlier in Montevideo, my hometown, its destination Santiago, Chile. It was a chartered flight on a Fairchild twin-engine turboprop carrying my rugby team—the Old Christians Rugby Club—to play an exhibition match against a top Chilean squad. There were forty-five people aboard, includin\n"
     ]
    }
   ],
   "source": [
    "with open('miracle_in_the_andes.txt', 'r', encoding= 'utf-8') as file:\n",
    "    book = file.read()\n",
    "\n",
    "print(book[0:500])"
   ]
  },
  {
   "attachments": {},
   "cell_type": "markdown",
   "id": "770a4f18",
   "metadata": {},
   "source": [
    "# Extract the paragraph where love was used"
   ]
  },
  {
   "cell_type": "code",
   "execution_count": 6,
   "id": "9940dbc9",
   "metadata": {},
   "outputs": [],
   "source": [
    "import re"
   ]
  },
  {
   "cell_type": "code",
   "execution_count": 42,
   "id": "e4711e0b",
   "metadata": {},
   "outputs": [
    {
     "name": "stdout",
     "output_type": "stream",
     "text": [
      "Length: 60\n"
     ]
    },
    {
     "data": {
      "text/plain": [
       "['As a young man, of course, I could not put these things into words, but I knew, and my teammates knew, that there was something special about the game, and under the guidance of the Christian Brothers we developed a passionate love for the sport that shaped our friendships and our lives. For eight years we played our hearts out for the Christian Brothers—a brotherhood of young boys with Latin names, playing a game with deep Anglo roots under Uruguay’s sunny skies, and proudly wearing the bright green shamrock on our uniforms. The game became so much a part of our lives, in fact, that when we graduated from Stella Maris at the age of sixteen, many of us could not bear the thought that our playing days were over. Our salvation came in the form of the Old Christians Club, a private rugby team formed in 1965 by previous alumni of the Stella Maris rugby program to give Stella Maris ruggers a chance to continue playing the game after our school years ended.',\n",
       " 'Guido and I grew up together, playing soccer and sharing a love of motorcycles, cars, and auto racing. When I was fifteen we both had mopeds that we had modified in silly ways—removing the mufflers, turn signals, and fenders—and we would ride them to Las Delicias, a famous ice cream parlor in our neighborhood, where we would drool over the girls from the nearby School Sagrado Corazón, hoping to impress them with our souped-up scooters. Guido was a dependable friend, with a good sense of humor and an easy laugh. He was also an outstanding scrum half, as quick and smart as a fox, with good hands and great courage. Under the guidance of the Christian Brothers, both of us grew to love the game of rugby with a consuming passion. As seasons passed we worked hard to improve our skills, and by the time I was fifteen we had each earned a spot on the Stella Maris First XV, the team’s starting lineup. After graduation, both of us went on to join the Old Christians and spent several happy seasons pursuing the high-octane social life of young rugby players. That rowdiness came to an abrupt end for Guido in 1969, when he met and fell in love with the beautiful daughter of a Chilean diplomat. She was now his fiancée, and he was happy to behave himself for her sake.',\n",
       " 'I believe he had a great hunger for the love and comforts of a family that was happy and whole. In any case, it did not take me long to realize that despite all the natural gifts he had been blessed with, all the things I envied him for, he envied me more for the one thing I had that he could only dream of—my sisters, my grandmother, my mother and father, all of us together in a close and happy home.']"
      ]
     },
     "execution_count": 42,
     "metadata": {},
     "output_type": "execute_result"
    }
   ],
   "source": [
    "pattern = re.compile(\"[A-Z]{1}[^.]*[^a-zA-Z]*love[^a-zA-Z]*[^\\n]*\")\n",
    "findings = re.findall(pattern, book)\n",
    "print(f\"Length: {len(findings)}\")\n",
    "findings[:3]"
   ]
  },
  {
   "attachments": {},
   "cell_type": "markdown",
   "id": "25f2c96f",
   "metadata": {},
   "source": [
    "# Extract the chapter titles"
   ]
  },
  {
   "cell_type": "code",
   "execution_count": 89,
   "id": "351fd0b6",
   "metadata": {},
   "outputs": [
    {
     "name": "stdout",
     "output_type": "stream",
     "text": [
      "Number of occurence: 10\n",
      "['Before', 'Everything Precious', 'A Promise', 'Breathe Once More', 'Abandoned', 'Tomb', 'East', 'The Opposite of Death', 'I See a Man', 'After']\n"
     ]
    }
   ],
   "source": [
    "pattern = re.compile(\"[A-Z]{1,}[a-zA-Z ]*[\\n]{3}\")\n",
    "findings = re.findall(pattern, book)\n",
    "findings = [item.replace('\\n','') for item in findings]\n",
    "print(f\"Number of occurence: {len(findings)}\")\n",
    "print(findings[0:25])\n"
   ]
  },
  {
   "attachments": {},
   "cell_type": "markdown",
   "id": "d8c91e34",
   "metadata": {},
   "source": [
    "# Functions that find the occurence of any word"
   ]
  },
  {
   "cell_type": "code",
   "execution_count": 95,
   "id": "cc2af12f",
   "metadata": {},
   "outputs": [],
   "source": [
    "def find_word(word):\n",
    "    pattern = re.compile(f\"[^a-zA-Z0-9]*{word}[^a-zA-Z0-9]*\")\n",
    "    findings = re.findall(pattern, book.lower())\n",
    "    return findings"
   ]
  },
  {
   "attachments": {},
   "cell_type": "markdown",
   "id": "a67f18ae",
   "metadata": {},
   "source": [
    "# Call the function"
   ]
  },
  {
   "cell_type": "code",
   "execution_count": 96,
   "id": "7d651a36",
   "metadata": {},
   "outputs": [
    {
     "name": "stdout",
     "output_type": "stream",
     "text": [
      "115\n",
      "[' love ', ' love ', ' love ', ' love ', ' love ', ' love ', ' love', ' love', ' love ', ' love ']\n"
     ]
    }
   ],
   "source": [
    "search = find_word('love')\n",
    "print(len(search))\n",
    "print(search[:10])\n"
   ]
  },
  {
   "cell_type": "code",
   "execution_count": null,
   "id": "29fd0927",
   "metadata": {},
   "outputs": [],
   "source": []
  },
  {
   "cell_type": "code",
   "execution_count": null,
   "id": "b69ff5c7",
   "metadata": {},
   "outputs": [],
   "source": []
  },
  {
   "cell_type": "code",
   "execution_count": null,
   "id": "e6751e82",
   "metadata": {},
   "outputs": [],
   "source": []
  },
  {
   "cell_type": "code",
   "execution_count": null,
   "id": "d6db6361",
   "metadata": {},
   "outputs": [],
   "source": []
  }
 ],
 "metadata": {
  "kernelspec": {
   "display_name": "venv",
   "language": "python",
   "name": "python3"
  },
  "language_info": {
   "codemirror_mode": {
    "name": "ipython",
    "version": 3
   },
   "file_extension": ".py",
   "mimetype": "text/x-python",
   "name": "python",
   "nbconvert_exporter": "python",
   "pygments_lexer": "ipython3",
   "version": "3.10.0"
  },
  "vscode": {
   "interpreter": {
    "hash": "a7b8246e3e3eb1751d35125333126c5396c52c7d37982ff0c1dc816f1499bda8"
   }
  }
 },
 "nbformat": 4,
 "nbformat_minor": 5
}
